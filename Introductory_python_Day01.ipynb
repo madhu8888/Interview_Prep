{
 "cells": [
  {
   "cell_type": "markdown",
   "metadata": {},
   "source": [
    "# Keywords and Identifiers:\n",
    "### Keywords\n",
    "1. Keywords are the reserved words in python\n",
    "2. We can't use a keyword as variable name, function name or any other identifier\n",
    "3. Keywords are case sentive"
   ]
  },
  {
   "cell_type": "code",
   "execution_count": 3,
   "metadata": {},
   "outputs": [
    {
     "name": "stdout",
     "output_type": "stream",
     "text": [
      "['False', 'None', 'True', 'and', 'as', 'assert', 'async', 'await', 'break', 'class', 'continue', 'def', 'del', 'elif', 'else', 'except', 'finally', 'for', 'from', 'global', 'if', 'import', 'in', 'is', 'lambda', 'nonlocal', 'not', 'or', 'pass', 'raise', 'return', 'try', 'while', 'with', 'yield']\n",
      "Number of Keywords:  35\n"
     ]
    }
   ],
   "source": [
    "import keyword\n",
    "print(keyword.kwlist)\n",
    "print(\"Number of Keywords: \", len(keyword.kwlist))"
   ]
  },
  {
   "cell_type": "markdown",
   "metadata": {},
   "source": [
    "# Identifiers\n",
    "### Identifier is the name given to entities like class, functions, variables etc. in Python. It helps differentiating one entity from another.\n",
    "\n",
    "Rules for Writing Identifiers:\n",
    "\n",
    "1. Identifiers can be a combination of letters in lowercase (a to z) or uppercase (A to Z) or digits (0 to 9) or an underscore (_).\n",
    "\n",
    "2. An identifier cannot start with a digit. 1variable is invalid, but variable1 is perfectly fine.\n",
    "\n",
    "3. Keywords cannot be used as identifiers.\n",
    "\n",
    "4. We cannot use special symbols like !, @, #, $, % etc. in our identifier."
   ]
  },
  {
   "cell_type": "markdown",
   "metadata": {},
   "source": [
    "global = 1"
   ]
  },
  {
   "cell_type": "code",
   "execution_count": 5,
   "metadata": {},
   "outputs": [
    {
     "ename": "SyntaxError",
     "evalue": "invalid syntax (<ipython-input-5-f7e717762463>, line 1)",
     "output_type": "error",
     "traceback": [
      "\u001b[0;36m  File \u001b[0;32m\"<ipython-input-5-f7e717762463>\"\u001b[0;36m, line \u001b[0;32m1\u001b[0m\n\u001b[0;31m    a@ = 1\u001b[0m\n\u001b[0m       ^\u001b[0m\n\u001b[0;31mSyntaxError\u001b[0m\u001b[0;31m:\u001b[0m invalid syntax\n"
     ]
    }
   ],
   "source": [
    "a@ = 1"
   ]
  },
  {
   "cell_type": "markdown",
   "metadata": {},
   "source": [
    "## Python Comments\n",
    "Comments are lines that exist in computer programs that are ignored by compilers and interpreters.\n",
    "\n",
    "Including comments in programs makes code more readable for humans as it provides some information or explanation about what each part of a program is doing.\n",
    "\n",
    "In general, it is a good idea to write comments while you are writing or updating a program as it is easy to forget your thought process later on, and comments written later may be less useful in the long term.\n",
    "\n",
    "In Python, we use the hash (#) symbol to start writing a comment."
   ]
  },
  {
   "cell_type": "code",
   "execution_count": 6,
   "metadata": {},
   "outputs": [
    {
     "name": "stdout",
     "output_type": "stream",
     "text": [
      "Hello world\n"
     ]
    }
   ],
   "source": [
    "# this is a comment \n",
    "print(\"Hello world\")"
   ]
  },
  {
   "cell_type": "markdown",
   "metadata": {},
   "source": [
    "## Multi Line Comments\n",
    "If we have comments that extend multiple lines, one way of doing it is to use hash (#) in the beginning of each line."
   ]
  },
  {
   "cell_type": "code",
   "execution_count": null,
   "metadata": {},
   "outputs": [],
   "source": [
    "# this is a\n",
    "# multi line comment\n",
    "# First method of multi line comment"
   ]
  },
  {
   "cell_type": "markdown",
   "metadata": {},
   "source": [
    "One more method of multi line comment is to use ''' ... ''' or \"\"\" ... \"\"\""
   ]
  },
  {
   "cell_type": "code",
   "execution_count": null,
   "metadata": {},
   "outputs": [],
   "source": [
    "\"\"\"This is a multi\n",
    "line comment\"\"\""
   ]
  },
  {
   "cell_type": "markdown",
   "metadata": {},
   "source": [
    "## Docstring in python\n",
    "Docstring is short for documentation string.\n",
    "It is a string that occurs as the first statement in a module, function, class, or method definition."
   ]
  },
  {
   "cell_type": "code",
   "execution_count": 7,
   "metadata": {},
   "outputs": [
    {
     "name": "stdout",
     "output_type": "stream",
     "text": [
      "20\n"
     ]
    }
   ],
   "source": [
    "def double_the_num(num):\n",
    "    \"\"\"This function returns\n",
    "    a number by doubling it\"\"\"\n",
    "    return 2*num;\n",
    "\n",
    "print(double_the_num(10))"
   ]
  },
  {
   "cell_type": "code",
   "execution_count": 8,
   "metadata": {},
   "outputs": [
    {
     "name": "stdout",
     "output_type": "stream",
     "text": [
      "This function returns\n",
      "    a number by doubling it\n"
     ]
    }
   ],
   "source": [
    "print( double_the_num.__doc__)"
   ]
  },
  {
   "cell_type": "markdown",
   "metadata": {},
   "source": [
    "## Python Indentation\n",
    "Most of the programming languages like C, C++, Java use braces { } to define a block of code. Python uses indentation.\n",
    "\n",
    "A code block (body of a function, loop etc.) starts with indentation and ends with the first unindented line. The amount of indentation is up to you, but it must be consistent throughout that block.\n",
    "\n",
    "Generally four whitespaces are used for indentation and is preferred over tabs."
   ]
  },
  {
   "cell_type": "code",
   "execution_count": 9,
   "metadata": {},
   "outputs": [
    {
     "name": "stdout",
     "output_type": "stream",
     "text": [
      "0\n",
      "1\n",
      "2\n",
      "3\n",
      "4\n",
      "5\n",
      "6\n",
      "7\n",
      "8\n"
     ]
    }
   ],
   "source": [
    "for i in range(0,9):\n",
    "    print(i)"
   ]
  },
  {
   "cell_type": "markdown",
   "metadata": {},
   "source": [
    "Indentation can be ignored in line continuation. But it's a good idea to always indent. It makes the code more readable."
   ]
  },
  {
   "cell_type": "code",
   "execution_count": 10,
   "metadata": {},
   "outputs": [
    {
     "name": "stdout",
     "output_type": "stream",
     "text": [
      "This is first statement\n",
      "This is second statement\n"
     ]
    }
   ],
   "source": [
    "if True:\n",
    "    print(\"This is first statement\")\n",
    "    print(\"This is second statement\")"
   ]
  },
  {
   "cell_type": "code",
   "execution_count": 11,
   "metadata": {},
   "outputs": [
    {
     "name": "stdout",
     "output_type": "stream",
     "text": [
      "This is first statement\n",
      "This is second statement\n"
     ]
    }
   ],
   "source": [
    "if True:\n",
    "    print(\"This is first statement\") print(\"This is second statement\")"
   ]
  },
  {
   "cell_type": "markdown",
   "metadata": {},
   "source": [
    "# Python statement\n",
    "Instructions that a Python interpreter can execute are called statements."
   ]
  },
  {
   "cell_type": "code",
   "execution_count": 12,
   "metadata": {},
   "outputs": [],
   "source": [
    " a = 1  #single statement"
   ]
  },
  {
   "cell_type": "markdown",
   "metadata": {},
   "source": [
    "Multiline statement\n",
    "In Python, end of a statement is marked by a newline character. But we can make a statement extend over multiple lines with the line continuation character ()."
   ]
  },
  {
   "cell_type": "code",
   "execution_count": null,
   "metadata": {},
   "outputs": [],
   "source": [
    "a = 1 + 2 + 3 + \\\n",
    "    4 + 5 + 6 + \\\n",
    "    7 + 8"
   ]
  }
 ],
 "metadata": {
  "kernelspec": {
   "display_name": "Python 3",
   "language": "python",
   "name": "python3"
  },
  "language_info": {
   "codemirror_mode": {
    "name": "ipython",
    "version": 3
   },
   "file_extension": ".py",
   "mimetype": "text/x-python",
   "name": "python",
   "nbconvert_exporter": "python",
   "pygments_lexer": "ipython3",
   "version": "3.7.6"
  }
 },
 "nbformat": 4,
 "nbformat_minor": 4
}
