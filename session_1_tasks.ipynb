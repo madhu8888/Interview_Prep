{
  "nbformat": 4,
  "nbformat_minor": 0,
  "metadata": {
    "colab": {
      "provenance": []
    },
    "kernelspec": {
      "name": "python3",
      "display_name": "Python 3"
    },
    "language_info": {
      "name": "python"
    }
  },
  "cells": [
    {
      "cell_type": "markdown",
      "source": [
        "# Task : Session 1\n",
        "Solve these questions own your own and try to test yourself what you have learned in the session.\n",
        "\n",
        "Happy Learning!"
      ],
      "metadata": {
        "id": "A05OG15VqOPF"
      }
    },
    {
      "cell_type": "markdown",
      "source": [
        "### Q1 :- Print the given strings as per stated format.\n",
        "\n",
        "**Given strings**: \n",
        "```\n",
        "\"Data\" \"Science\" \"Mentorship\" \"Program\" \n",
        "\"By\" \"CampusX\"\n",
        "```\n",
        "**Output**: \n",
        "``` \n",
        "Data-Science-Mentorship-Program-started-By-CampusX\n",
        "```\n",
        "\n",
        "Concept- [Seperator and End]"
      ],
      "metadata": {
        "id": "2doIXf8bqe9_"
      }
    },
    {
      "cell_type": "code",
      "source": [
        "# Write your code here\n",
        "print(\"Data\",\"Science\", \"Mentorship\", \"Program\", \"By\", \"CampusX\" , sep = \"-\")"
      ],
      "metadata": {
        "id": "-em6d3KErDtp",
        "outputId": "62fa6db0-ba2e-4432-83f3-38cf3eaa5784",
        "colab": {
          "base_uri": "https://localhost:8080/"
        }
      },
      "execution_count": 3,
      "outputs": [
        {
          "output_type": "stream",
          "name": "stdout",
          "text": [
            "Data-Science-Mentorship-Program-By-CampusX\n"
          ]
        }
      ]
    },
    {
      "cell_type": "markdown",
      "source": [
        "### Q2:- Write a program that will convert celsius value to fahrenheit."
      ],
      "metadata": {
        "id": "1KUpN7ZTrC3_"
      }
    },
    {
      "cell_type": "code",
      "source": [
        "# Write your code here\n",
        "celsius = float(input(\"enter temp in degrees\"))\n",
        "fahrenheit = celsius * (1.8) + 32\n",
        "print(fahrenheit)"
      ],
      "metadata": {
        "id": "yxKYhYQiqWfj",
        "outputId": "27c13eb1-bb18-4143-b4d5-45110c054bf7",
        "colab": {
          "base_uri": "https://localhost:8080/"
        }
      },
      "execution_count": 5,
      "outputs": [
        {
          "output_type": "stream",
          "name": "stdout",
          "text": [
            "enter temp in degrees8\n",
            "46.4\n"
          ]
        }
      ]
    },
    {
      "cell_type": "markdown",
      "source": [
        "### Q3:- Take 2 numbers as input from the user.Write a program to swap the numbers without using any special python syntax."
      ],
      "metadata": {
        "id": "RLrOBBJurLB2"
      }
    },
    {
      "cell_type": "code",
      "source": [
        "# Write your code here\n",
        "a = 9\n",
        "b=10\n",
        "a = a+b\n",
        "b = a-b\n",
        "a = a-b\n",
        "print(\"a: \",a)\n",
        "print(\"b: \",b)"
      ],
      "metadata": {
        "id": "yPn7if0TrJ4F",
        "outputId": "00660184-7e5b-4319-a227-da02f6087681",
        "colab": {
          "base_uri": "https://localhost:8080/"
        }
      },
      "execution_count": 1,
      "outputs": [
        {
          "output_type": "stream",
          "name": "stdout",
          "text": [
            "a:  10\n",
            "b:  9\n"
          ]
        }
      ]
    },
    {
      "cell_type": "markdown",
      "source": [
        "### Q4:- Write a program to find the euclidean distance between two coordinates.Take both the coordinates from the user as input."
      ],
      "metadata": {
        "id": "waLCP1bjr7ML"
      }
    },
    {
      "cell_type": "code",
      "source": [
        "# Write your code here\n",
        "import math\n",
        "point_1x = int(input(\"enter point 1x values\"))\n",
        "point_2x = int(input(\"enter point 2x values\"))\n",
        "point_1y = int(input(\"enter point 1y values\"))\n",
        "point_2y = int(input(\"enter point 2y values\"))\n",
        "\n",
        "euclidean_dist = math.sqrt((point_1x-point_2x)**2 + (point_1y-point_2y)**2 )\n",
        "print(euclidean_dist)"
      ],
      "metadata": {
        "id": "Pl1Sv-xnrxnH",
        "outputId": "58cb9a20-04e3-47f4-cde4-b96411c59270",
        "colab": {
          "base_uri": "https://localhost:8080/"
        }
      },
      "execution_count": 8,
      "outputs": [
        {
          "output_type": "stream",
          "name": "stdout",
          "text": [
            "enter point 1x values2\n",
            "enter point 2x values4\n",
            "enter point 1y values1\n",
            "enter point 2y values2\n",
            "2.23606797749979\n"
          ]
        }
      ]
    },
    {
      "cell_type": "markdown",
      "source": [
        "### Q5:- Write a program to find the simple interest when the value of principle,rate of interest and time period is provided by the user.\n"
      ],
      "metadata": {
        "id": "VLrhg-FRsHjR"
      }
    },
    {
      "cell_type": "code",
      "source": [
        "# Write your code here\n",
        "principal = float(input(\"Enter principal \"))\n",
        "roi = float(input(\"Enter roi \"))\n",
        "time = float(input(\"Enter time \"))\n",
        "interest = (principal * roi * time)/100\n",
        "print(\"interest \", interest)"
      ],
      "metadata": {
        "id": "s40DlReZsTmY",
        "outputId": "3da85bb1-ce77-4b95-c295-82226ac0a21d",
        "colab": {
          "base_uri": "https://localhost:8080/"
        }
      },
      "execution_count": 6,
      "outputs": [
        {
          "output_type": "stream",
          "name": "stdout",
          "text": [
            "Enter principal 100\n",
            "Enter roi 20\n",
            "Enter time 30\n",
            "interest  600.0\n"
          ]
        }
      ]
    },
    {
      "cell_type": "markdown",
      "source": [
        "### Q6:- Write a program that will tell the number of dogs and chicken are there when the user will provide the value of total heads and legs.\n",
        "\n",
        "For example:\n",
        "Input:\n",
        "heads -> 4\n",
        "legs -> 12\n",
        "<br>\n",
        "Output:\n",
        "dogs -> 2\n",
        "chicken -> 2\n",
        "\n",
        "\n",
        "\n"
      ],
      "metadata": {
        "id": "LMy0BTUktYKa"
      }
    },
    {
      "cell_type": "code",
      "source": [
        "# Write your code here\n",
        "n_heads = int(input(\"Enter number of heads\"))\n",
        "n_legs = int(input(\"Enter number of legs\"))\n",
        "n_hens = (4*n_heads - n_legs)/2\n",
        "n_dogs = n_heads - n_hens\n",
        "print(\"n_dogs: \", n_dogs)\n",
        "print(\"n_hens: \", n_hens)"
      ],
      "metadata": {
        "id": "XSBvJoA4tXaG",
        "outputId": "afde20c8-240d-419b-990c-d20f603dc1e1",
        "colab": {
          "base_uri": "https://localhost:8080/"
        }
      },
      "execution_count": 3,
      "outputs": [
        {
          "output_type": "stream",
          "name": "stdout",
          "text": [
            "Enter number of heads5\n",
            "Enter number of legs16\n",
            "n_dogs:  3.0\n",
            "n_hens:  2.0\n"
          ]
        }
      ]
    },
    {
      "cell_type": "markdown",
      "source": [
        "### Q7:- Write a program to find the sum of squares of first n natural numbers where n will be provided by the user."
      ],
      "metadata": {
        "id": "gJ7C5kZYt4BP"
      }
    },
    {
      "cell_type": "code",
      "source": [
        "# Write your code here\n",
        "n = int(input(\"Enter a value of n \"))\n",
        "sum = 0;\n",
        "for i in range(1,n+1):\n",
        "  print(i)\n",
        "  sum = sum + i *i\n",
        "\n",
        "print(sum)"
      ],
      "metadata": {
        "id": "_tHsmEHzt2nX",
        "outputId": "776ac3e7-6ed9-4cd0-e1c9-d1122f9da35b",
        "colab": {
          "base_uri": "https://localhost:8080/"
        }
      },
      "execution_count": 9,
      "outputs": [
        {
          "output_type": "stream",
          "name": "stdout",
          "text": [
            "Enter a value of n 2\n",
            "1\n",
            "2\n",
            "5\n"
          ]
        }
      ]
    },
    {
      "cell_type": "markdown",
      "source": [
        "### Q8:- Given the first 2 terms of an Arithmetic Series.Find the Nth term of the series. Assume all inputs are provided by the user."
      ],
      "metadata": {
        "id": "FHrMM7g-yG1h"
      }
    },
    {
      "cell_type": "code",
      "source": [
        "# Write your code here\n",
        "a_1 = int(input(\"Enter first term\"))\n",
        "a_2 = int(input(\"Enter second term\"))\n",
        "diff = a_2 - a_1\n",
        "n = int(input(\"Enter number of term\"))\n",
        "nth_term = a_1 + (n-1) * diff\n",
        "print(\"nth term \",nth_term )"
      ],
      "metadata": {
        "id": "go4_kmZmyVSx",
        "outputId": "873fe616-61cb-45d4-bc5a-9dc4043503da",
        "colab": {
          "base_uri": "https://localhost:8080/"
        }
      },
      "execution_count": 10,
      "outputs": [
        {
          "output_type": "stream",
          "name": "stdout",
          "text": [
            "Enter first term4\n",
            "Enter second term8\n",
            "Enter number of term5\n",
            "nth term  20\n"
          ]
        }
      ]
    },
    {
      "cell_type": "markdown",
      "source": [
        "### Q9:- Given 2 fractions, find the sum of those 2 fractions.Take the numerator and denominator values of the fractions from the user."
      ],
      "metadata": {
        "id": "QgyRX_es1oum"
      }
    },
    {
      "cell_type": "code",
      "source": [
        "# Write your code here\n",
        "n1 = int(input(\"num 1 \"))\n",
        "n2 = int(input(\"num 2 \"))\n",
        "d1 = int(input(\"den 1 \"))\n",
        "d2 = int(input(\"den 2 \"))\n",
        "sum = ((n1*d2)+(n2*d1))/(d1*d2)\n",
        "print(sum)\n"
      ],
      "metadata": {
        "id": "X05xqFS1yW16",
        "outputId": "dad3d921-cc4e-409e-ca0c-3fbb576fbfdc",
        "colab": {
          "base_uri": "https://localhost:8080/"
        }
      },
      "execution_count": 11,
      "outputs": [
        {
          "output_type": "stream",
          "name": "stdout",
          "text": [
            "num 1 2\n",
            "num 2 5\n",
            "den 1 5\n",
            "den 2 7\n",
            "1.1142857142857143\n"
          ]
        }
      ]
    },
    {
      "cell_type": "markdown",
      "source": [
        "### Q10:- Given the height, width and breadth of a milk tank, you have to find out how many glasses of milk can be obtained? Assume all the inputs are provided by the user.\n",
        "\n",
        "\n",
        "\n",
        "Input:<br>\n",
        "Dimensions of the milk tank<br>\n",
        "H = 20cm, L = 20cm, B = 20cm\n",
        "<br><br>\n",
        "Dimensions of the glass<br>\n",
        "h = 3cm, r = 1cm"
      ],
      "metadata": {
        "id": "eaql38ln13u7"
      }
    },
    {
      "cell_type": "code",
      "source": [
        "# Write your code here\n",
        "# tank dim \n",
        "h_tank = int(input(\"Input tank height \"))\n",
        "l_tank = int(input(\"Input tank length \"))\n",
        "b_tank = int(input(\"Input tank width \"))\n",
        "vol_tank = h_tank * l_tank * b_tank\n",
        "# glass dim\n",
        "h_glass = int(input(\"Input glass height \"))\n",
        "r_glass = int(input(\"Input glass height \"))\n",
        "vol_glass = 3.14 * h_glass * r_glass * r_glass\n",
        "# Number of glasses\n",
        "num_glasses = vol_tank / vol_glass\n",
        "print(\"Num of glasses: \", num_glasses)\n"
      ],
      "metadata": {
        "id": "FePZqno74eWv",
        "outputId": "9c88bae4-f734-4840-a9f3-fa4165d88400",
        "colab": {
          "base_uri": "https://localhost:8080/"
        }
      },
      "execution_count": 12,
      "outputs": [
        {
          "output_type": "stream",
          "name": "stdout",
          "text": [
            "Input tank height 10\n",
            "Input tank length 20\n",
            "Input tank width 30\n",
            "Input glass height 10\n",
            "Input glass height 3\n",
            "Num of glasses:  21.231422505307854\n"
          ]
        }
      ]
    }
  ]
}